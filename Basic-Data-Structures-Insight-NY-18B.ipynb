{
 "cells": [
  {
   "cell_type": "markdown",
   "metadata": {},
   "source": [
    "### 1) Is there a native array data structure in python?\n",
    "Yes, in Python 3 there are two:\n",
    " - [Array module](https://docs.python.org/3/library/array.html) for representing an array of basic values: characters, integers, floating point numbers.\n",
    " - Built-in [bytearray](https://docs.python.org/3/library/stdtypes.html#bytearray) data structure. Limited to holding bytes.\n",
    "\n",
    "These are **not popular** because of the flexibility and features of the [numpy package](https://docs.scipy.org/doc/numpy-1.13.0/user/whatisnumpy.html) and [built-in lists](https://docs.python.org/3/library/stdtypes.html#lists) which provide much greater functionality for arrays-like objects.  \n",
    "It is good to remember that arrays are designed to hold **homogeneous** data. For arrays to be efficient, you would have to know the array size in advance to reserve a block of memory for the array. \n",
    "Lists in pythons are implemented as arrays for **homogeneous** data and they are also efficient if you know the size of your list in advance (see below). If the number of items in your array keeps growing, using lists is a good approach, since the memory allocation (the process of reserving memory) is automatically done by Python."
   ]
  },
  {
   "cell_type": "code",
   "execution_count": 1,
   "metadata": {},
   "outputs": [
    {
     "name": "stdout",
     "output_type": "stream",
     "text": [
      "If you know how many items your array will hold, an array is a very efficient data structure. It takes only 0.08 seconds fill 10^8 items in an array.\n",
      "If you know the number of items, a numpy array is also a very efficient data structure. It takes only 0.19 seconds to fill 10^8 items in a numpy array\n",
      "If you know the number of items, a list is also an efficient data structure. It takes only 0.46 seconds to fill 10^8 items in a list\n",
      "If you do not know the number of items, a list is less efficient, because it will have to resize itself. The resizing time is not an issue for small lists, but it could be a problem for large lists. It takes 10.74 seconds for appending 10^8 items\n"
     ]
    }
   ],
   "source": [
    "import timeit\n",
    "#To use time it, you give some setup statements (setup) and then include an statement to time (stmt) \n",
    "\n",
    "print(\"If you know how many items your array will hold, an array is a very efficient data structure. It takes only\",\n",
    "      \"%.2f\" % timeit.timeit(stmt='array1 = array.array(\"B\",[128])*N', setup='N = 10**8; import array',number=1),\n",
    "     \"seconds fill 10^8 items in an array.\")\n",
    "\n",
    "print(\"If you know the number of items, a numpy array is also a very efficient data structure. It takes only\",\n",
    "      \"%.2f\" % timeit.timeit(stmt='array2 = np.full((N,1), 128)', setup='N = 10**8; import numpy as np',number=1),\n",
    "     \"seconds to fill 10^8 items in a numpy array\")\n",
    "\n",
    "print(\"If you know the number of items, a list is also an efficient data structure. It takes only\",\n",
    "      \"%.2f\" % timeit.timeit(stmt='list1 = [128]*N', setup='N = 10**8; list1 = list()',number=1),\n",
    "     \"seconds to fill 10^8 items in a list\")\n",
    "\n",
    "print(\"If you do not know the number of items, a list is less efficient, because it will have to resize itself.\",\n",
    "      \"The resizing time is not an issue for small lists, but it could be a problem for large lists. It takes\",\n",
    "      \"%.2f\" % timeit.timeit(stmt='list2.append(128)', setup='list2 = list()',number=10**8),\n",
    "     \"seconds for appending 10^8 items\")"
   ]
  },
  {
   "cell_type": "markdown",
   "metadata": {},
   "source": [
    "### 2) Are lists in Python implemented as linked lists?\n",
    "No, Python lists are not linked lists, they are [equivalent to arrays](https://docs.python.org/3/faq/programming.html#how-do-you-make-an-array-in-python) in their performance. Most of the time they will use contiguous memory blocks for fast indexing. However, they are **dynamically allocated** arrays, which means that you do not have to worry about reserving memory for the elements in this data structure, and also they can be used to store **heterogeneous** data. "
   ]
  },
  {
   "cell_type": "markdown",
   "metadata": {},
   "source": [
    "### 3) Should we always avoid for loops?\n",
    "This is a very complex question that is more relevant to software engineers. At the end, many algorithms use for loops under the hood, but they use it with the most basic data structures implemented with optimized libraries.  \n",
    "When we use for loops in our code, we are using the python high level version of a for loop, and this for loop may not be able to access the optimized functions. \n",
    "So **if there is a vectorized or optimized version of a function** in Python, use it instead of a for loop. Sometimes a for loop can be replaced by a [map call or a list comprehension](https://wiki.python.org/moin/PythonSpeed/PerformanceTips#Loops).  "
   ]
  },
  {
   "cell_type": "code",
   "execution_count": 3,
   "metadata": {},
   "outputs": [
    {
     "name": "stdout",
     "output_type": "stream",
     "text": [
      "To fill in a list with the value 128 in 100 million locations, using a Python shorcut takes only 0.50\n",
      "Filling in the list with a for loop is slower, taking 5.08\n"
     ]
    }
   ],
   "source": [
    "print(\"To fill in a list with the value 128 in 100 million locations, using a Python shorcut takes only\",\n",
    "      \"%.2f\" % timeit.timeit(stmt='list1 = [128]*N', setup='N = 10**8; import array',number=1))\n",
    "print(\"Filling in the list with a for loop is slower, taking\",\n",
    "      \"%.2f\" % timeit.timeit(stmt='for i in range(N): list1[i] = 128', setup='N = 10**8; list1 = [None]*N',number=1))"
   ]
  },
  {
   "cell_type": "markdown",
   "metadata": {},
   "source": [
    "Here is another example of timing for loops versus an optimized numpy function for multiplying matrices. Although Numpy may use a for loop in the background, they use it with [special optimized libraries](https://stackoverflow.com/questions/43857033/fastest-way-to-compute-matrix-dot-product) and simple basic data types. Fortunately as Data Scientist we do not have to develop those libraries, but it is good to know they exist. "
   ]
  },
  {
   "cell_type": "code",
   "execution_count": 4,
   "metadata": {},
   "outputs": [
    {
     "data": {
      "text/plain": [
       "0.2566298488737715"
      ]
     },
     "execution_count": 4,
     "metadata": {},
     "output_type": "execute_result"
    }
   ],
   "source": [
    "# Matrix multiplication with brute force for loops O(n^3)\n",
    "matmul = \"\"\"\n",
    "result = [] # final result\n",
    "for i in range(len(matrix1)):\n",
    "    row = [] # the new row in new matrix\n",
    "    for j in range(len(matrix2)):\n",
    "        product = 0 # the new element in the new row\n",
    "        for v in range(len(matrix1[i])):\n",
    "            product += matrix1[i][v] * matrix2[v][j]\n",
    "        row.append(product) # append sum of product into the new row\n",
    "    result.append(row) # append the new row into the final result\n",
    "    \"\"\"\n",
    "\n",
    "timeit.timeit(stmt=matmul,\n",
    "              setup='matrix1 = [[9]*10**2]*10**2;matrix2 = [[11]*10**2]*10**2; import numpy as np',\n",
    "              number=1)\n"
   ]
  },
  {
   "cell_type": "code",
   "execution_count": 5,
   "metadata": {},
   "outputs": [
    {
     "data": {
      "text/plain": [
       "0.019385443850438833"
      ]
     },
     "execution_count": 5,
     "metadata": {},
     "output_type": "execute_result"
    }
   ],
   "source": [
    "# Optimized matrix multiplication with numpy\n",
    "timeit.timeit(stmt='res = np.dot(matrix1,matrix2)',\n",
    "              setup='matrix1 = [[9]*10**2]*10**2;matrix2 = [[11]*10**2]*10**2; import numpy as np',\n",
    "              number=1)"
   ]
  },
  {
   "cell_type": "markdown",
   "metadata": {},
   "source": [
    "### 4) When to use linked lists?\n",
    "A linked list can be used when you want inexpensive insertion and deletion of elements and when it doesn't matter that the elements aren't next to each other in memory. \n",
    "However, the inexpensive insertion/deletion comes to the expense of linear time complexity (O(n)) retrieval of elements. Here is a decent [Medium post](https://medium.com/@kojinoshiba/data-structures-in-python-series-1-linked-lists-d9f848537b4d) about linked lists. "
   ]
  },
  {
   "cell_type": "markdown",
   "metadata": {},
   "source": [
    "### 5) Clarification about the answer to finding a median in a stream of integers with two heaps\n",
    "The problem definition can be found in [LeetCode](https://leetcode.com/problems/find-median-from-data-stream/description/)  \n",
    "\n",
    "Given that integers are read from a data stream. Find median of elements in real-time in an efficient way. \n",
    "\n",
    "For example, consider the stream 5, 15, 1, 3 …\n",
    "After reading 1st element of stream - 5 -> median - 5\n",
    "After reading 2nd element of stream - 5, 15 -> median - 10 \n",
    "After reading 3rd element of stream - 5, 15, 1 -> median - 5\n",
    "After reading 4th element of stream - 5, 15, 1, 3 -> median - 4\n",
    "\n",
    "A discussion about the solution (including Python code) can be found [here](http://www.ardendertat.com/2011/11/03/programming-interview-questions-13-median-of-integer-stream/). Note that they use the Python implementation of heaps (heapq)."
   ]
  },
  {
   "cell_type": "code",
   "execution_count": 6,
   "metadata": {
    "collapsed": true
   },
   "outputs": [],
   "source": [
    "import heapq\n",
    "class streamMedian:\n",
    "    def __init__(self):\n",
    "        self.minHeap, self.maxHeap = [], []\n",
    "        self.N=0\n",
    " \n",
    "    def insert(self, num):\n",
    "        if self.N%2==0:\n",
    "            heapq.heappush(self.maxHeap, -1*num)\n",
    "            self.N+=1\n",
    "            if len(self.minHeap)==0:\n",
    "                return\n",
    "            if -1*self.maxHeap[0]>self.minHeap[0]:\n",
    "                toMin=-1*heapq.heappop(self.maxHeap)\n",
    "                toMax=heapq.heappop(self.minHeap)\n",
    "                heapq.heappush(self.maxHeap, -1*toMax)\n",
    "                heapq.heappush(self.minHeap, toMin)\n",
    "        else:\n",
    "            toMin=-1*heapq.heappushpop(self.maxHeap, -1*num)\n",
    "            heapq.heappush(self.minHeap, toMin)\n",
    "            self.N+=1\n",
    " \n",
    "    def getMedian(self):\n",
    "        if self.N%2==0:\n",
    "            return (-1*self.maxHeap[0]+self.minHeap[0])/2.0\n",
    "        else:\n",
    "            return -1*self.maxHeap[0]"
   ]
  },
  {
   "cell_type": "code",
   "execution_count": 7,
   "metadata": {},
   "outputs": [
    {
     "name": "stdout",
     "output_type": "stream",
     "text": [
      "median - 5\n"
     ]
    }
   ],
   "source": [
    "myStream = streamMedian()\n",
    "myStream.insert(5)\n",
    "print(\"median -\",myStream.getMedian())"
   ]
  },
  {
   "cell_type": "code",
   "execution_count": 8,
   "metadata": {},
   "outputs": [
    {
     "name": "stdout",
     "output_type": "stream",
     "text": [
      "median - 10.0\n"
     ]
    }
   ],
   "source": [
    "myStream.insert(15)\n",
    "print(\"median -\",myStream.getMedian())"
   ]
  },
  {
   "cell_type": "code",
   "execution_count": 9,
   "metadata": {},
   "outputs": [
    {
     "name": "stdout",
     "output_type": "stream",
     "text": [
      "median - 5\n"
     ]
    }
   ],
   "source": [
    "myStream.insert(1)\n",
    "print(\"median -\",myStream.getMedian())"
   ]
  },
  {
   "cell_type": "code",
   "execution_count": 10,
   "metadata": {},
   "outputs": [
    {
     "name": "stdout",
     "output_type": "stream",
     "text": [
      "median - 4.0\n"
     ]
    }
   ],
   "source": [
    "myStream.insert(3)\n",
    "print(\"median -\",myStream.getMedian())"
   ]
  }
 ],
 "metadata": {
  "kernelspec": {
   "display_name": "Python 3",
   "language": "python",
   "name": "python3"
  },
  "language_info": {
   "codemirror_mode": {
    "name": "ipython",
    "version": 3
   },
   "file_extension": ".py",
   "mimetype": "text/x-python",
   "name": "python",
   "nbconvert_exporter": "python",
   "pygments_lexer": "ipython3",
   "version": "3.6.3"
  }
 },
 "nbformat": 4,
 "nbformat_minor": 2
}
